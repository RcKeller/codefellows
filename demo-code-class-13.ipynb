{
 "cells": [
  {
   "cell_type": "code",
   "execution_count": 1,
   "id": "474367a9",
   "metadata": {
    "_cell_guid": "b1076dfc-b9ad-4769-8c92-a6c4dae69d19",
    "_uuid": "8f2839f25d086af736a60e9eeb907d3b93b6e0e5",
    "execution": {
     "iopub.execute_input": "2023-04-29T16:30:39.458501Z",
     "iopub.status.busy": "2023-04-29T16:30:39.458015Z",
     "iopub.status.idle": "2023-04-29T16:30:40.720435Z",
     "shell.execute_reply": "2023-04-29T16:30:40.718876Z"
    },
    "papermill": {
     "duration": 1.270473,
     "end_time": "2023-04-29T16:30:40.723210",
     "exception": false,
     "start_time": "2023-04-29T16:30:39.452737",
     "status": "completed"
    },
    "tags": []
   },
   "outputs": [
    {
     "name": "stdout",
     "output_type": "stream",
     "text": [
      "/kaggle/input/salary/Salary.csv\n"
     ]
    }
   ],
   "source": [
    "# This Python 3 environment comes with many helpful analytics libraries installed\n",
    "# It is defined by the kaggle/python Docker image: https://github.com/kaggle/docker-python\n",
    "# For example, here's several helpful packages to load\n",
    "\n",
    "import numpy as np # linear algebra\n",
    "import pandas as pd # data processing, CSV file I/O (e.g. pd.read_csv)\n",
    "\n",
    "# New imports!\n",
    "import matplotlib.pyplot as plt\n",
    "from sklearn.linear_model import LinearRegression\n",
    "from sklearn.model_selection import train_test_split\n",
    "\n",
    "# Input data files are available in the read-only \"../input/\" directory\n",
    "# For example, running this (by clicking run or pressing Shift+Enter) will list all files under the input directory\n",
    "\n",
    "import os\n",
    "for dirname, _, filenames in os.walk('/kaggle/input'):\n",
    "    for filename in filenames:\n",
    "        print(os.path.join(dirname, filename))\n",
    "\n",
    "# You can write up to 20GB to the current directory (/kaggle/working/) that gets preserved as output when you create a version using \"Save & Run All\" \n",
    "# You can also write temporary files to /kaggle/temp/, but they won't be saved outside of the current session"
   ]
  },
  {
   "cell_type": "markdown",
   "id": "96019da0",
   "metadata": {
    "papermill": {
     "duration": 0.001888,
     "end_time": "2023-04-29T16:30:40.727812",
     "exception": false,
     "start_time": "2023-04-29T16:30:40.725924",
     "status": "completed"
    },
    "tags": []
   },
   "source": [
    "# Let's Explore the Data!"
   ]
  },
  {
   "cell_type": "code",
   "execution_count": 2,
   "id": "80fc4fb6",
   "metadata": {
    "execution": {
     "iopub.execute_input": "2023-04-29T16:30:40.734411Z",
     "iopub.status.busy": "2023-04-29T16:30:40.733278Z",
     "iopub.status.idle": "2023-04-29T16:30:40.771886Z",
     "shell.execute_reply": "2023-04-29T16:30:40.770589Z"
    },
    "papermill": {
     "duration": 0.044892,
     "end_time": "2023-04-29T16:30:40.774711",
     "exception": false,
     "start_time": "2023-04-29T16:30:40.729819",
     "status": "completed"
    },
    "tags": []
   },
   "outputs": [
    {
     "data": {
      "text/html": [
       "<div>\n",
       "<style scoped>\n",
       "    .dataframe tbody tr th:only-of-type {\n",
       "        vertical-align: middle;\n",
       "    }\n",
       "\n",
       "    .dataframe tbody tr th {\n",
       "        vertical-align: top;\n",
       "    }\n",
       "\n",
       "    .dataframe thead th {\n",
       "        text-align: right;\n",
       "    }\n",
       "</style>\n",
       "<table border=\"1\" class=\"dataframe\">\n",
       "  <thead>\n",
       "    <tr style=\"text-align: right;\">\n",
       "      <th></th>\n",
       "      <th>YearsExperience</th>\n",
       "      <th>Salary</th>\n",
       "    </tr>\n",
       "  </thead>\n",
       "  <tbody>\n",
       "    <tr>\n",
       "      <th>0</th>\n",
       "      <td>1.1</td>\n",
       "      <td>39343</td>\n",
       "    </tr>\n",
       "    <tr>\n",
       "      <th>1</th>\n",
       "      <td>1.3</td>\n",
       "      <td>46205</td>\n",
       "    </tr>\n",
       "    <tr>\n",
       "      <th>2</th>\n",
       "      <td>1.5</td>\n",
       "      <td>37731</td>\n",
       "    </tr>\n",
       "    <tr>\n",
       "      <th>3</th>\n",
       "      <td>2.0</td>\n",
       "      <td>43525</td>\n",
       "    </tr>\n",
       "    <tr>\n",
       "      <th>4</th>\n",
       "      <td>2.2</td>\n",
       "      <td>39891</td>\n",
       "    </tr>\n",
       "  </tbody>\n",
       "</table>\n",
       "</div>"
      ],
      "text/plain": [
       "   YearsExperience  Salary\n",
       "0              1.1   39343\n",
       "1              1.3   46205\n",
       "2              1.5   37731\n",
       "3              2.0   43525\n",
       "4              2.2   39891"
      ]
     },
     "execution_count": 2,
     "metadata": {},
     "output_type": "execute_result"
    }
   ],
   "source": [
    "# .read_csv is going to take our .csv file and create a pandas dataframe\n",
    "df_salary = pd.read_csv('/kaggle/input/salary/Salary.csv')\n",
    "\n",
    "df_salary.head()"
   ]
  },
  {
   "cell_type": "markdown",
   "id": "a7f7b3c5",
   "metadata": {
    "papermill": {
     "duration": 0.002138,
     "end_time": "2023-04-29T16:30:40.779915",
     "exception": false,
     "start_time": "2023-04-29T16:30:40.777777",
     "status": "completed"
    },
    "tags": []
   },
   "source": [
    "# Plot the data"
   ]
  },
  {
   "cell_type": "code",
   "execution_count": null,
   "id": "2dee8394",
   "metadata": {
    "papermill": {
     "duration": 0.002146,
     "end_time": "2023-04-29T16:30:40.784462",
     "exception": false,
     "start_time": "2023-04-29T16:30:40.782316",
     "status": "completed"
    },
    "tags": []
   },
   "outputs": [],
   "source": []
  }
 ],
 "metadata": {
  "kernelspec": {
   "display_name": "Python 3",
   "language": "python",
   "name": "python3"
  },
  "language_info": {
   "codemirror_mode": {
    "name": "ipython",
    "version": 3
   },
   "file_extension": ".py",
   "mimetype": "text/x-python",
   "name": "python",
   "nbconvert_exporter": "python",
   "pygments_lexer": "ipython3",
   "version": "3.7.12"
  },
  "papermill": {
   "default_parameters": {},
   "duration": 12.735263,
   "end_time": "2023-04-29T16:30:41.509417",
   "environment_variables": {},
   "exception": null,
   "input_path": "__notebook__.ipynb",
   "output_path": "__notebook__.ipynb",
   "parameters": {},
   "start_time": "2023-04-29T16:30:28.774154",
   "version": "2.4.0"
  }
 },
 "nbformat": 4,
 "nbformat_minor": 5
}
